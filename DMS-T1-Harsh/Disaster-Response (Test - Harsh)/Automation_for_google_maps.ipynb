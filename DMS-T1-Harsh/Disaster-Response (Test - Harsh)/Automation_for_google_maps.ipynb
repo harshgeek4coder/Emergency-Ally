{
 "cells": [
  {
   "cell_type": "code",
   "execution_count": 1,
   "metadata": {},
   "outputs": [
    {
     "name": "stdout",
     "output_type": "stream",
     "text": [
      "Enter KeywordMedical\n"
     ]
    }
   ],
   "source": [
    "import sys, webbrowser \n",
    "\n",
    "location = input(\"Enter Keyword\")\n",
    "if len(location) > 1:       # Argument passed \n",
    "    map_string = ''.join(location) \n",
    "    webbrowser.open('https://www.google.com/maps/search/near+by+' + map_string) \n",
    "      \n",
    "else: \n",
    "    print(\"Pass the string as command line argument, Try Again\")"
   ]
  },
  {
   "cell_type": "code",
   "execution_count": 6,
   "metadata": {},
   "outputs": [
    {
     "name": "stdout",
     "output_type": "stream",
     "text": [
      "Enter Keywordambulance\n"
     ]
    }
   ],
   "source": [
    "import sys, webbrowser \n",
    "\n",
    "keyword = input(\"Enter Keyword\")\n",
    "if len(location) > 1:       # Argument passed \n",
    "    map_string = ''.join(location) \n",
    "    #webbrowser.open('https://www.google.com/search/near+by+' + map_string) \n",
    "    url = \"https://www.google.com.tr/search?q={}\".format(keyword)\n",
    "    webbrowser.open_new_tab(url)\n",
    "      \n",
    "else: \n",
    "    print(\"Pass the string as command line argument, Try Again\")"
   ]
  },
  {
   "cell_type": "code",
   "execution_count": null,
   "metadata": {},
   "outputs": [],
   "source": []
  },
  {
   "cell_type": "code",
   "execution_count": null,
   "metadata": {},
   "outputs": [],
   "source": []
  }
 ],
 "metadata": {
  "kernelspec": {
   "display_name": "Python 3",
   "language": "python",
   "name": "python3"
  },
  "language_info": {
   "codemirror_mode": {
    "name": "ipython",
    "version": 3
   },
   "file_extension": ".py",
   "mimetype": "text/x-python",
   "name": "python",
   "nbconvert_exporter": "python",
   "pygments_lexer": "ipython3",
   "version": "3.8.5"
  }
 },
 "nbformat": 4,
 "nbformat_minor": 4
}
